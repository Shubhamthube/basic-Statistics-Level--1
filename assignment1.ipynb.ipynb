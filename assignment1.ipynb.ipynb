{
 "cells": [
  {
   "cell_type": "markdown",
   "id": "42efc27d",
   "metadata": {},
   "source": [
    "# Q7 find Mean, mode, median, Variance, Std.deviation and Range of Points, score and Weigh."
   ]
  },
  {
   "cell_type": "code",
   "execution_count": 1,
   "id": "46b2b276",
   "metadata": {},
   "outputs": [],
   "source": [
    "import pandas as pd\n",
    "import statistics as stats\n",
    "import seaborn as sns"
   ]
  },
  {
   "cell_type": "code",
   "execution_count": 5,
   "id": "9fa6d0e8",
   "metadata": {},
   "outputs": [],
   "source": [
    "df=pd.read_csv(\"C:\\\\Users\\\\user\\\\EXCELR\\\\Assignments\\\\Basic Statitics Level-1\\\\Q7.csv\")"
   ]
  },
  {
   "cell_type": "code",
   "execution_count": 6,
   "id": "a4f4a104",
   "metadata": {},
   "outputs": [
    {
     "data": {
      "text/html": [
       "<div>\n",
       "<style scoped>\n",
       "    .dataframe tbody tr th:only-of-type {\n",
       "        vertical-align: middle;\n",
       "    }\n",
       "\n",
       "    .dataframe tbody tr th {\n",
       "        vertical-align: top;\n",
       "    }\n",
       "\n",
       "    .dataframe thead th {\n",
       "        text-align: right;\n",
       "    }\n",
       "</style>\n",
       "<table border=\"1\" class=\"dataframe\">\n",
       "  <thead>\n",
       "    <tr style=\"text-align: right;\">\n",
       "      <th></th>\n",
       "      <th>Unnamed: 0</th>\n",
       "      <th>Points</th>\n",
       "      <th>Score</th>\n",
       "      <th>Weigh</th>\n",
       "    </tr>\n",
       "  </thead>\n",
       "  <tbody>\n",
       "    <tr>\n",
       "      <th>0</th>\n",
       "      <td>Mazda RX4</td>\n",
       "      <td>3.90</td>\n",
       "      <td>2.620</td>\n",
       "      <td>16.46</td>\n",
       "    </tr>\n",
       "    <tr>\n",
       "      <th>1</th>\n",
       "      <td>Mazda RX4 Wag</td>\n",
       "      <td>3.90</td>\n",
       "      <td>2.875</td>\n",
       "      <td>17.02</td>\n",
       "    </tr>\n",
       "    <tr>\n",
       "      <th>2</th>\n",
       "      <td>Datsun 710</td>\n",
       "      <td>3.85</td>\n",
       "      <td>2.320</td>\n",
       "      <td>18.61</td>\n",
       "    </tr>\n",
       "    <tr>\n",
       "      <th>3</th>\n",
       "      <td>Hornet 4 Drive</td>\n",
       "      <td>3.08</td>\n",
       "      <td>3.215</td>\n",
       "      <td>19.44</td>\n",
       "    </tr>\n",
       "    <tr>\n",
       "      <th>4</th>\n",
       "      <td>Hornet Sportabout</td>\n",
       "      <td>3.15</td>\n",
       "      <td>3.440</td>\n",
       "      <td>17.02</td>\n",
       "    </tr>\n",
       "    <tr>\n",
       "      <th>5</th>\n",
       "      <td>Valiant</td>\n",
       "      <td>2.76</td>\n",
       "      <td>3.460</td>\n",
       "      <td>20.22</td>\n",
       "    </tr>\n",
       "    <tr>\n",
       "      <th>6</th>\n",
       "      <td>Duster 360</td>\n",
       "      <td>3.21</td>\n",
       "      <td>3.570</td>\n",
       "      <td>15.84</td>\n",
       "    </tr>\n",
       "    <tr>\n",
       "      <th>7</th>\n",
       "      <td>Merc 240D</td>\n",
       "      <td>3.69</td>\n",
       "      <td>3.190</td>\n",
       "      <td>20.00</td>\n",
       "    </tr>\n",
       "    <tr>\n",
       "      <th>8</th>\n",
       "      <td>Merc 230</td>\n",
       "      <td>3.92</td>\n",
       "      <td>3.150</td>\n",
       "      <td>22.90</td>\n",
       "    </tr>\n",
       "    <tr>\n",
       "      <th>9</th>\n",
       "      <td>Merc 280</td>\n",
       "      <td>3.92</td>\n",
       "      <td>3.440</td>\n",
       "      <td>18.30</td>\n",
       "    </tr>\n",
       "    <tr>\n",
       "      <th>10</th>\n",
       "      <td>Merc 280C</td>\n",
       "      <td>3.92</td>\n",
       "      <td>3.440</td>\n",
       "      <td>18.90</td>\n",
       "    </tr>\n",
       "    <tr>\n",
       "      <th>11</th>\n",
       "      <td>Merc 450SE</td>\n",
       "      <td>3.07</td>\n",
       "      <td>4.070</td>\n",
       "      <td>17.40</td>\n",
       "    </tr>\n",
       "    <tr>\n",
       "      <th>12</th>\n",
       "      <td>Merc 450SL</td>\n",
       "      <td>3.07</td>\n",
       "      <td>3.730</td>\n",
       "      <td>17.60</td>\n",
       "    </tr>\n",
       "    <tr>\n",
       "      <th>13</th>\n",
       "      <td>Merc 450SLC</td>\n",
       "      <td>3.07</td>\n",
       "      <td>3.780</td>\n",
       "      <td>18.00</td>\n",
       "    </tr>\n",
       "    <tr>\n",
       "      <th>14</th>\n",
       "      <td>Cadillac Fleetwood</td>\n",
       "      <td>2.93</td>\n",
       "      <td>5.250</td>\n",
       "      <td>17.98</td>\n",
       "    </tr>\n",
       "    <tr>\n",
       "      <th>15</th>\n",
       "      <td>Lincoln Continental</td>\n",
       "      <td>3.00</td>\n",
       "      <td>5.424</td>\n",
       "      <td>17.82</td>\n",
       "    </tr>\n",
       "    <tr>\n",
       "      <th>16</th>\n",
       "      <td>Chrysler Imperial</td>\n",
       "      <td>3.23</td>\n",
       "      <td>5.345</td>\n",
       "      <td>17.42</td>\n",
       "    </tr>\n",
       "    <tr>\n",
       "      <th>17</th>\n",
       "      <td>Fiat 128</td>\n",
       "      <td>4.08</td>\n",
       "      <td>2.200</td>\n",
       "      <td>19.47</td>\n",
       "    </tr>\n",
       "    <tr>\n",
       "      <th>18</th>\n",
       "      <td>Honda Civic</td>\n",
       "      <td>4.93</td>\n",
       "      <td>1.615</td>\n",
       "      <td>18.52</td>\n",
       "    </tr>\n",
       "    <tr>\n",
       "      <th>19</th>\n",
       "      <td>Toyota Corolla</td>\n",
       "      <td>4.22</td>\n",
       "      <td>1.835</td>\n",
       "      <td>19.90</td>\n",
       "    </tr>\n",
       "    <tr>\n",
       "      <th>20</th>\n",
       "      <td>Toyota Corona</td>\n",
       "      <td>3.70</td>\n",
       "      <td>2.465</td>\n",
       "      <td>20.01</td>\n",
       "    </tr>\n",
       "    <tr>\n",
       "      <th>21</th>\n",
       "      <td>Dodge Challenger</td>\n",
       "      <td>2.76</td>\n",
       "      <td>3.520</td>\n",
       "      <td>16.87</td>\n",
       "    </tr>\n",
       "    <tr>\n",
       "      <th>22</th>\n",
       "      <td>AMC Javelin</td>\n",
       "      <td>3.15</td>\n",
       "      <td>3.435</td>\n",
       "      <td>17.30</td>\n",
       "    </tr>\n",
       "    <tr>\n",
       "      <th>23</th>\n",
       "      <td>Camaro Z28</td>\n",
       "      <td>3.73</td>\n",
       "      <td>3.840</td>\n",
       "      <td>15.41</td>\n",
       "    </tr>\n",
       "    <tr>\n",
       "      <th>24</th>\n",
       "      <td>Pontiac Firebird</td>\n",
       "      <td>3.08</td>\n",
       "      <td>3.845</td>\n",
       "      <td>17.05</td>\n",
       "    </tr>\n",
       "    <tr>\n",
       "      <th>25</th>\n",
       "      <td>Fiat X1-9</td>\n",
       "      <td>4.08</td>\n",
       "      <td>1.935</td>\n",
       "      <td>18.90</td>\n",
       "    </tr>\n",
       "    <tr>\n",
       "      <th>26</th>\n",
       "      <td>Porsche 914-2</td>\n",
       "      <td>4.43</td>\n",
       "      <td>2.140</td>\n",
       "      <td>16.70</td>\n",
       "    </tr>\n",
       "    <tr>\n",
       "      <th>27</th>\n",
       "      <td>Lotus Europa</td>\n",
       "      <td>3.77</td>\n",
       "      <td>1.513</td>\n",
       "      <td>16.90</td>\n",
       "    </tr>\n",
       "    <tr>\n",
       "      <th>28</th>\n",
       "      <td>Ford Pantera L</td>\n",
       "      <td>4.22</td>\n",
       "      <td>3.170</td>\n",
       "      <td>14.50</td>\n",
       "    </tr>\n",
       "    <tr>\n",
       "      <th>29</th>\n",
       "      <td>Ferrari Dino</td>\n",
       "      <td>3.62</td>\n",
       "      <td>2.770</td>\n",
       "      <td>15.50</td>\n",
       "    </tr>\n",
       "    <tr>\n",
       "      <th>30</th>\n",
       "      <td>Maserati Bora</td>\n",
       "      <td>3.54</td>\n",
       "      <td>3.570</td>\n",
       "      <td>14.60</td>\n",
       "    </tr>\n",
       "    <tr>\n",
       "      <th>31</th>\n",
       "      <td>Volvo 142E</td>\n",
       "      <td>4.11</td>\n",
       "      <td>2.780</td>\n",
       "      <td>18.60</td>\n",
       "    </tr>\n",
       "  </tbody>\n",
       "</table>\n",
       "</div>"
      ],
      "text/plain": [
       "             Unnamed: 0  Points  Score  Weigh\n",
       "0             Mazda RX4    3.90  2.620  16.46\n",
       "1         Mazda RX4 Wag    3.90  2.875  17.02\n",
       "2            Datsun 710    3.85  2.320  18.61\n",
       "3        Hornet 4 Drive    3.08  3.215  19.44\n",
       "4     Hornet Sportabout    3.15  3.440  17.02\n",
       "5               Valiant    2.76  3.460  20.22\n",
       "6            Duster 360    3.21  3.570  15.84\n",
       "7             Merc 240D    3.69  3.190  20.00\n",
       "8              Merc 230    3.92  3.150  22.90\n",
       "9              Merc 280    3.92  3.440  18.30\n",
       "10            Merc 280C    3.92  3.440  18.90\n",
       "11           Merc 450SE    3.07  4.070  17.40\n",
       "12           Merc 450SL    3.07  3.730  17.60\n",
       "13          Merc 450SLC    3.07  3.780  18.00\n",
       "14   Cadillac Fleetwood    2.93  5.250  17.98\n",
       "15  Lincoln Continental    3.00  5.424  17.82\n",
       "16    Chrysler Imperial    3.23  5.345  17.42\n",
       "17             Fiat 128    4.08  2.200  19.47\n",
       "18          Honda Civic    4.93  1.615  18.52\n",
       "19       Toyota Corolla    4.22  1.835  19.90\n",
       "20        Toyota Corona    3.70  2.465  20.01\n",
       "21     Dodge Challenger    2.76  3.520  16.87\n",
       "22          AMC Javelin    3.15  3.435  17.30\n",
       "23           Camaro Z28    3.73  3.840  15.41\n",
       "24     Pontiac Firebird    3.08  3.845  17.05\n",
       "25            Fiat X1-9    4.08  1.935  18.90\n",
       "26        Porsche 914-2    4.43  2.140  16.70\n",
       "27         Lotus Europa    3.77  1.513  16.90\n",
       "28       Ford Pantera L    4.22  3.170  14.50\n",
       "29         Ferrari Dino    3.62  2.770  15.50\n",
       "30        Maserati Bora    3.54  3.570  14.60\n",
       "31           Volvo 142E    4.11  2.780  18.60"
      ]
     },
     "execution_count": 6,
     "metadata": {},
     "output_type": "execute_result"
    }
   ],
   "source": [
    "df"
   ]
  },
  {
   "cell_type": "code",
   "execution_count": 15,
   "id": "2304e0f1",
   "metadata": {},
   "outputs": [
    {
     "name": "stdout",
     "output_type": "stream",
     "text": [
      "The mean of list of Points is  3.5965625\n",
      "The mean of list of Score is  3.21725\n",
      "The mean of list of Weigh is  17.84875\n"
     ]
    }
   ],
   "source": [
    "# Mean calculation \n",
    "print (\"The mean of list of Points is \", stats.mean(df.Points))\n",
    "print (\"The mean of list of Score is \", stats.mean(df.Score))\n",
    "print (\"The mean of list of Weigh is \", stats.mean(df.Weigh))"
   ]
  },
  {
   "cell_type": "code",
   "execution_count": 17,
   "id": "1b0fa368",
   "metadata": {},
   "outputs": [
    {
     "name": "stdout",
     "output_type": "stream",
     "text": [
      "The mode of list of Points is  3.92\n",
      "The mode of list of Score is  3.44\n",
      "The mode of list of Weigh is  17.02\n"
     ]
    }
   ],
   "source": [
    "# Mode calculation \n",
    "print (\"The mode of list of Points is \", stats.mode(df.Points))\n",
    "print (\"The mode of list of Score is \", stats.mode(df.Score))\n",
    "print (\"The mode of list of Weigh is \", stats.mode(df.Weigh))"
   ]
  },
  {
   "cell_type": "code",
   "execution_count": 18,
   "id": "03a1742a",
   "metadata": {},
   "outputs": [
    {
     "name": "stdout",
     "output_type": "stream",
     "text": [
      "The median of list of Points is  3.6950000000000003\n",
      "The median of list of Score is  3.325\n",
      "The median of list of Weigh is  17.71\n"
     ]
    }
   ],
   "source": [
    "# Median calculation \n",
    "print (\"The median of list of Points is \", stats.median(df.Points))\n",
    "print (\"The median of list of Score is \", stats.median(df.Score))\n",
    "print (\"The median of list of Weigh is \", stats.median(df.Weigh))"
   ]
  },
  {
   "cell_type": "code",
   "execution_count": 21,
   "id": "15472aae",
   "metadata": {},
   "outputs": [
    {
     "name": "stdout",
     "output_type": "stream",
     "text": [
      "The Variance of list of Points is  0.2858813508064516\n",
      "The Variance of list of Score is  0.9573789677419355\n",
      "The Variance of list of Weigh is  3.1931661290322575\n"
     ]
    }
   ],
   "source": [
    "# Variance calculation \n",
    "print (\"The Variance of list of Points is \", stats.variance(df.Points))\n",
    "print (\"The Variance of list of Score is \", stats.variance(df.Score))\n",
    "print (\"The Variance of list of Weigh is \", stats.variance(df.Weigh))"
   ]
  },
  {
   "cell_type": "code",
   "execution_count": 24,
   "id": "c0db8cd4",
   "metadata": {},
   "outputs": [
    {
     "name": "stdout",
     "output_type": "stream",
     "text": [
      "The Std Deviation  of list of Points is  0.5346787360709715\n",
      "The Std Deviation of list of Score is  0.9784574429896967\n",
      "The Std Deviation of list of Weigh is  1.786943236096843\n"
     ]
    }
   ],
   "source": [
    "# Std Deviation calculation \n",
    "print (\"The Std Deviation  of list of Points is \", stats.stdev(df.Points))\n",
    "print (\"The Std Deviation of list of Score is \", stats.stdev(df.Score))\n",
    "print (\"The Std Deviation of list of Weigh is \", stats.stdev(df.Weigh))"
   ]
  },
  {
   "cell_type": "code",
   "execution_count": 33,
   "id": "5e9695a5",
   "metadata": {},
   "outputs": [
    {
     "name": "stdout",
     "output_type": "stream",
     "text": [
      "Range of Points:  2.17\n",
      "Range of Score:  3.9110000000000005\n",
      "Range of Weigh:  8.399999999999999\n"
     ]
    }
   ],
   "source": [
    "# Range calculation\n",
    "print(\"Range of Points: \",df.Points.max()-df.Points.min())\n",
    "print(\"Range of Score: \",df.Score.max()-df.Score.min())\n",
    "print(\"Range of Weigh: \",df.Weigh.max()-df.Weigh.min())"
   ]
  },
  {
   "cell_type": "markdown",
   "id": "77339052",
   "metadata": {},
   "source": [
    "# Q9) Calculate Skewness, Kurtosis & draw inferences on the following data\n",
    "  Cars speed and distance\n",
    " "
   ]
  },
  {
   "cell_type": "code",
   "execution_count": 7,
   "id": "1e8e2f9d",
   "metadata": {},
   "outputs": [],
   "source": [
    "Q9_a = pd.read_csv('C:\\\\Users\\\\user\\\\EXCELR\\\\Assignments\\\\Basic Statitics Level-1\\\\Q9_a.csv')"
   ]
  },
  {
   "cell_type": "code",
   "execution_count": 8,
   "id": "d6443fe3",
   "metadata": {},
   "outputs": [
    {
     "data": {
      "text/html": [
       "<div>\n",
       "<style scoped>\n",
       "    .dataframe tbody tr th:only-of-type {\n",
       "        vertical-align: middle;\n",
       "    }\n",
       "\n",
       "    .dataframe tbody tr th {\n",
       "        vertical-align: top;\n",
       "    }\n",
       "\n",
       "    .dataframe thead th {\n",
       "        text-align: right;\n",
       "    }\n",
       "</style>\n",
       "<table border=\"1\" class=\"dataframe\">\n",
       "  <thead>\n",
       "    <tr style=\"text-align: right;\">\n",
       "      <th></th>\n",
       "      <th>Index</th>\n",
       "      <th>speed</th>\n",
       "      <th>dist</th>\n",
       "    </tr>\n",
       "  </thead>\n",
       "  <tbody>\n",
       "    <tr>\n",
       "      <th>0</th>\n",
       "      <td>1</td>\n",
       "      <td>4</td>\n",
       "      <td>2</td>\n",
       "    </tr>\n",
       "    <tr>\n",
       "      <th>1</th>\n",
       "      <td>2</td>\n",
       "      <td>4</td>\n",
       "      <td>10</td>\n",
       "    </tr>\n",
       "    <tr>\n",
       "      <th>2</th>\n",
       "      <td>3</td>\n",
       "      <td>7</td>\n",
       "      <td>4</td>\n",
       "    </tr>\n",
       "    <tr>\n",
       "      <th>3</th>\n",
       "      <td>4</td>\n",
       "      <td>7</td>\n",
       "      <td>22</td>\n",
       "    </tr>\n",
       "    <tr>\n",
       "      <th>4</th>\n",
       "      <td>5</td>\n",
       "      <td>8</td>\n",
       "      <td>16</td>\n",
       "    </tr>\n",
       "    <tr>\n",
       "      <th>5</th>\n",
       "      <td>6</td>\n",
       "      <td>9</td>\n",
       "      <td>10</td>\n",
       "    </tr>\n",
       "    <tr>\n",
       "      <th>6</th>\n",
       "      <td>7</td>\n",
       "      <td>10</td>\n",
       "      <td>18</td>\n",
       "    </tr>\n",
       "    <tr>\n",
       "      <th>7</th>\n",
       "      <td>8</td>\n",
       "      <td>10</td>\n",
       "      <td>26</td>\n",
       "    </tr>\n",
       "    <tr>\n",
       "      <th>8</th>\n",
       "      <td>9</td>\n",
       "      <td>10</td>\n",
       "      <td>34</td>\n",
       "    </tr>\n",
       "    <tr>\n",
       "      <th>9</th>\n",
       "      <td>10</td>\n",
       "      <td>11</td>\n",
       "      <td>17</td>\n",
       "    </tr>\n",
       "    <tr>\n",
       "      <th>10</th>\n",
       "      <td>11</td>\n",
       "      <td>11</td>\n",
       "      <td>28</td>\n",
       "    </tr>\n",
       "    <tr>\n",
       "      <th>11</th>\n",
       "      <td>12</td>\n",
       "      <td>12</td>\n",
       "      <td>14</td>\n",
       "    </tr>\n",
       "    <tr>\n",
       "      <th>12</th>\n",
       "      <td>13</td>\n",
       "      <td>12</td>\n",
       "      <td>20</td>\n",
       "    </tr>\n",
       "    <tr>\n",
       "      <th>13</th>\n",
       "      <td>14</td>\n",
       "      <td>12</td>\n",
       "      <td>24</td>\n",
       "    </tr>\n",
       "    <tr>\n",
       "      <th>14</th>\n",
       "      <td>15</td>\n",
       "      <td>12</td>\n",
       "      <td>28</td>\n",
       "    </tr>\n",
       "    <tr>\n",
       "      <th>15</th>\n",
       "      <td>16</td>\n",
       "      <td>13</td>\n",
       "      <td>26</td>\n",
       "    </tr>\n",
       "    <tr>\n",
       "      <th>16</th>\n",
       "      <td>17</td>\n",
       "      <td>13</td>\n",
       "      <td>34</td>\n",
       "    </tr>\n",
       "    <tr>\n",
       "      <th>17</th>\n",
       "      <td>18</td>\n",
       "      <td>13</td>\n",
       "      <td>34</td>\n",
       "    </tr>\n",
       "    <tr>\n",
       "      <th>18</th>\n",
       "      <td>19</td>\n",
       "      <td>13</td>\n",
       "      <td>46</td>\n",
       "    </tr>\n",
       "    <tr>\n",
       "      <th>19</th>\n",
       "      <td>20</td>\n",
       "      <td>14</td>\n",
       "      <td>26</td>\n",
       "    </tr>\n",
       "    <tr>\n",
       "      <th>20</th>\n",
       "      <td>21</td>\n",
       "      <td>14</td>\n",
       "      <td>36</td>\n",
       "    </tr>\n",
       "    <tr>\n",
       "      <th>21</th>\n",
       "      <td>22</td>\n",
       "      <td>14</td>\n",
       "      <td>60</td>\n",
       "    </tr>\n",
       "    <tr>\n",
       "      <th>22</th>\n",
       "      <td>23</td>\n",
       "      <td>14</td>\n",
       "      <td>80</td>\n",
       "    </tr>\n",
       "    <tr>\n",
       "      <th>23</th>\n",
       "      <td>24</td>\n",
       "      <td>15</td>\n",
       "      <td>20</td>\n",
       "    </tr>\n",
       "    <tr>\n",
       "      <th>24</th>\n",
       "      <td>25</td>\n",
       "      <td>15</td>\n",
       "      <td>26</td>\n",
       "    </tr>\n",
       "    <tr>\n",
       "      <th>25</th>\n",
       "      <td>26</td>\n",
       "      <td>15</td>\n",
       "      <td>54</td>\n",
       "    </tr>\n",
       "    <tr>\n",
       "      <th>26</th>\n",
       "      <td>27</td>\n",
       "      <td>16</td>\n",
       "      <td>32</td>\n",
       "    </tr>\n",
       "    <tr>\n",
       "      <th>27</th>\n",
       "      <td>28</td>\n",
       "      <td>16</td>\n",
       "      <td>40</td>\n",
       "    </tr>\n",
       "    <tr>\n",
       "      <th>28</th>\n",
       "      <td>29</td>\n",
       "      <td>17</td>\n",
       "      <td>32</td>\n",
       "    </tr>\n",
       "    <tr>\n",
       "      <th>29</th>\n",
       "      <td>30</td>\n",
       "      <td>17</td>\n",
       "      <td>40</td>\n",
       "    </tr>\n",
       "    <tr>\n",
       "      <th>30</th>\n",
       "      <td>31</td>\n",
       "      <td>17</td>\n",
       "      <td>50</td>\n",
       "    </tr>\n",
       "    <tr>\n",
       "      <th>31</th>\n",
       "      <td>32</td>\n",
       "      <td>18</td>\n",
       "      <td>42</td>\n",
       "    </tr>\n",
       "    <tr>\n",
       "      <th>32</th>\n",
       "      <td>33</td>\n",
       "      <td>18</td>\n",
       "      <td>56</td>\n",
       "    </tr>\n",
       "    <tr>\n",
       "      <th>33</th>\n",
       "      <td>34</td>\n",
       "      <td>18</td>\n",
       "      <td>76</td>\n",
       "    </tr>\n",
       "    <tr>\n",
       "      <th>34</th>\n",
       "      <td>35</td>\n",
       "      <td>18</td>\n",
       "      <td>84</td>\n",
       "    </tr>\n",
       "    <tr>\n",
       "      <th>35</th>\n",
       "      <td>36</td>\n",
       "      <td>19</td>\n",
       "      <td>36</td>\n",
       "    </tr>\n",
       "    <tr>\n",
       "      <th>36</th>\n",
       "      <td>37</td>\n",
       "      <td>19</td>\n",
       "      <td>46</td>\n",
       "    </tr>\n",
       "    <tr>\n",
       "      <th>37</th>\n",
       "      <td>38</td>\n",
       "      <td>19</td>\n",
       "      <td>68</td>\n",
       "    </tr>\n",
       "    <tr>\n",
       "      <th>38</th>\n",
       "      <td>39</td>\n",
       "      <td>20</td>\n",
       "      <td>32</td>\n",
       "    </tr>\n",
       "    <tr>\n",
       "      <th>39</th>\n",
       "      <td>40</td>\n",
       "      <td>20</td>\n",
       "      <td>48</td>\n",
       "    </tr>\n",
       "    <tr>\n",
       "      <th>40</th>\n",
       "      <td>41</td>\n",
       "      <td>20</td>\n",
       "      <td>52</td>\n",
       "    </tr>\n",
       "    <tr>\n",
       "      <th>41</th>\n",
       "      <td>42</td>\n",
       "      <td>20</td>\n",
       "      <td>56</td>\n",
       "    </tr>\n",
       "    <tr>\n",
       "      <th>42</th>\n",
       "      <td>43</td>\n",
       "      <td>20</td>\n",
       "      <td>64</td>\n",
       "    </tr>\n",
       "    <tr>\n",
       "      <th>43</th>\n",
       "      <td>44</td>\n",
       "      <td>22</td>\n",
       "      <td>66</td>\n",
       "    </tr>\n",
       "    <tr>\n",
       "      <th>44</th>\n",
       "      <td>45</td>\n",
       "      <td>23</td>\n",
       "      <td>54</td>\n",
       "    </tr>\n",
       "    <tr>\n",
       "      <th>45</th>\n",
       "      <td>46</td>\n",
       "      <td>24</td>\n",
       "      <td>70</td>\n",
       "    </tr>\n",
       "    <tr>\n",
       "      <th>46</th>\n",
       "      <td>47</td>\n",
       "      <td>24</td>\n",
       "      <td>92</td>\n",
       "    </tr>\n",
       "    <tr>\n",
       "      <th>47</th>\n",
       "      <td>48</td>\n",
       "      <td>24</td>\n",
       "      <td>93</td>\n",
       "    </tr>\n",
       "    <tr>\n",
       "      <th>48</th>\n",
       "      <td>49</td>\n",
       "      <td>24</td>\n",
       "      <td>120</td>\n",
       "    </tr>\n",
       "    <tr>\n",
       "      <th>49</th>\n",
       "      <td>50</td>\n",
       "      <td>25</td>\n",
       "      <td>85</td>\n",
       "    </tr>\n",
       "  </tbody>\n",
       "</table>\n",
       "</div>"
      ],
      "text/plain": [
       "    Index  speed  dist\n",
       "0       1      4     2\n",
       "1       2      4    10\n",
       "2       3      7     4\n",
       "3       4      7    22\n",
       "4       5      8    16\n",
       "5       6      9    10\n",
       "6       7     10    18\n",
       "7       8     10    26\n",
       "8       9     10    34\n",
       "9      10     11    17\n",
       "10     11     11    28\n",
       "11     12     12    14\n",
       "12     13     12    20\n",
       "13     14     12    24\n",
       "14     15     12    28\n",
       "15     16     13    26\n",
       "16     17     13    34\n",
       "17     18     13    34\n",
       "18     19     13    46\n",
       "19     20     14    26\n",
       "20     21     14    36\n",
       "21     22     14    60\n",
       "22     23     14    80\n",
       "23     24     15    20\n",
       "24     25     15    26\n",
       "25     26     15    54\n",
       "26     27     16    32\n",
       "27     28     16    40\n",
       "28     29     17    32\n",
       "29     30     17    40\n",
       "30     31     17    50\n",
       "31     32     18    42\n",
       "32     33     18    56\n",
       "33     34     18    76\n",
       "34     35     18    84\n",
       "35     36     19    36\n",
       "36     37     19    46\n",
       "37     38     19    68\n",
       "38     39     20    32\n",
       "39     40     20    48\n",
       "40     41     20    52\n",
       "41     42     20    56\n",
       "42     43     20    64\n",
       "43     44     22    66\n",
       "44     45     23    54\n",
       "45     46     24    70\n",
       "46     47     24    92\n",
       "47     48     24    93\n",
       "48     49     24   120\n",
       "49     50     25    85"
      ]
     },
     "execution_count": 8,
     "metadata": {},
     "output_type": "execute_result"
    }
   ],
   "source": [
    "Q9_a"
   ]
  },
  {
   "cell_type": "code",
   "execution_count": 9,
   "id": "a803f9de",
   "metadata": {},
   "outputs": [
    {
     "data": {
      "text/plain": [
       "Index    0.000000\n",
       "speed   -0.117510\n",
       "dist     0.806895\n",
       "dtype: float64"
      ]
     },
     "execution_count": 9,
     "metadata": {},
     "output_type": "execute_result"
    }
   ],
   "source": [
    "Q9_a.skew()"
   ]
  },
  {
   "cell_type": "code",
   "execution_count": 10,
   "id": "7a43b9b9",
   "metadata": {},
   "outputs": [
    {
     "data": {
      "text/plain": [
       "Index   -1.200000\n",
       "speed   -0.508994\n",
       "dist     0.405053\n",
       "dtype: float64"
      ]
     },
     "execution_count": 10,
     "metadata": {},
     "output_type": "execute_result"
    }
   ],
   "source": [
    "Q9_a.kurtosis()"
   ]
  },
  {
   "cell_type": "code",
   "execution_count": 13,
   "id": "ae474b51",
   "metadata": {},
   "outputs": [
    {
     "data": {
      "text/plain": [
       "<seaborn.axisgrid.FacetGrid at 0x1f9023833d0>"
      ]
     },
     "execution_count": 13,
     "metadata": {},
     "output_type": "execute_result"
    },
    {
     "data": {
      "image/png": "[encoded data removed]",
      "text/plain": [
       "<Figure size 360x360 with 1 Axes>"
      ]
     },
     "metadata": {
      "needs_background": "light"
     },
     "output_type": "display_data"
    },
    {
     "data": {
      "image/png": "[encoded data removed]",
      "text/plain": [
       "<Figure size 360x360 with 1 Axes>"
      ]
     },
     "metadata": {
      "needs_background": "light"
     },
     "output_type": "display_data"
    }
   ],
   "source": [
    "sns.displot(data=Q9_a['speed'],kind='kde')\n",
    "sns.displot(data=Q9_a['dist'],kind='kde')"
   ]
  },
  {
   "cell_type": "code",
   "execution_count": 14,
   "id": "c7d4fdc9",
   "metadata": {},
   "outputs": [
    {
     "data": {
      "text/plain": [
       "<AxesSubplot:ylabel='speed'>"
      ]
     },
     "execution_count": 14,
     "metadata": {},
     "output_type": "execute_result"
    },
    {
     "data": {
      "image/png": "[encoded data removed]",
      "text/plain": [
       "<Figure size 432x288 with 1 Axes>"
      ]
     },
     "metadata": {
      "needs_background": "light"
     },
     "output_type": "display_data"
    }
   ],
   "source": [
    "sns.boxplot(y= Q9_a['speed'],orient='v')"
   ]
  },
  {
   "cell_type": "code",
   "execution_count": 15,
   "id": "0ef0cc66",
   "metadata": {},
   "outputs": [
    {
     "data": {
      "text/plain": [
       "<AxesSubplot:ylabel='dist'>"
      ]
     },
     "execution_count": 15,
     "metadata": {},
     "output_type": "execute_result"
    },
    {
     "data": {
      "image/png": "[encoded data removed]",
      "text/plain": [
       "<Figure size 432x288 with 1 Axes>"
      ]
     },
     "metadata": {
      "needs_background": "light"
     },
     "output_type": "display_data"
    }
   ],
   "source": [
    "sns.boxplot(y=Q9_a['dist'],orient='v')"
   ]
  },
  {
   "cell_type": "code",
   "execution_count": 17,
   "id": "0b430848",
   "metadata": {},
   "outputs": [],
   "source": [
    "Q9_b= pd.read_csv('C:\\\\Users\\\\user\\\\EXCELR\\\\Assignments\\\\Basic Statitics Level-1\\\\Q9_b.csv')"
   ]
  },
  {
   "cell_type": "code",
   "execution_count": 18,
   "id": "2b298e08",
   "metadata": {},
   "outputs": [
    {
     "data": {
      "text/html": [
       "<div>\n",
       "<style scoped>\n",
       "    .dataframe tbody tr th:only-of-type {\n",
       "        vertical-align: middle;\n",
       "    }\n",
       "\n",
       "    .dataframe tbody tr th {\n",
       "        vertical-align: top;\n",
       "    }\n",
       "\n",
       "    .dataframe thead th {\n",
       "        text-align: right;\n",
       "    }\n",
       "</style>\n",
       "<table border=\"1\" class=\"dataframe\">\n",
       "  <thead>\n",
       "    <tr style=\"text-align: right;\">\n",
       "      <th></th>\n",
       "      <th>Unnamed: 0</th>\n",
       "      <th>SP</th>\n",
       "      <th>WT</th>\n",
       "    </tr>\n",
       "  </thead>\n",
       "  <tbody>\n",
       "    <tr>\n",
       "      <th>0</th>\n",
       "      <td>1</td>\n",
       "      <td>104.185353</td>\n",
       "      <td>28.762059</td>\n",
       "    </tr>\n",
       "    <tr>\n",
       "      <th>1</th>\n",
       "      <td>2</td>\n",
       "      <td>105.461264</td>\n",
       "      <td>30.466833</td>\n",
       "    </tr>\n",
       "    <tr>\n",
       "      <th>2</th>\n",
       "      <td>3</td>\n",
       "      <td>105.461264</td>\n",
       "      <td>30.193597</td>\n",
       "    </tr>\n",
       "    <tr>\n",
       "      <th>3</th>\n",
       "      <td>4</td>\n",
       "      <td>113.461264</td>\n",
       "      <td>30.632114</td>\n",
       "    </tr>\n",
       "    <tr>\n",
       "      <th>4</th>\n",
       "      <td>5</td>\n",
       "      <td>104.461264</td>\n",
       "      <td>29.889149</td>\n",
       "    </tr>\n",
       "    <tr>\n",
       "      <th>...</th>\n",
       "      <td>...</td>\n",
       "      <td>...</td>\n",
       "      <td>...</td>\n",
       "    </tr>\n",
       "    <tr>\n",
       "      <th>76</th>\n",
       "      <td>77</td>\n",
       "      <td>169.598513</td>\n",
       "      <td>16.132947</td>\n",
       "    </tr>\n",
       "    <tr>\n",
       "      <th>77</th>\n",
       "      <td>78</td>\n",
       "      <td>150.576579</td>\n",
       "      <td>37.923113</td>\n",
       "    </tr>\n",
       "    <tr>\n",
       "      <th>78</th>\n",
       "      <td>79</td>\n",
       "      <td>151.598513</td>\n",
       "      <td>15.769625</td>\n",
       "    </tr>\n",
       "    <tr>\n",
       "      <th>79</th>\n",
       "      <td>80</td>\n",
       "      <td>167.944460</td>\n",
       "      <td>39.423099</td>\n",
       "    </tr>\n",
       "    <tr>\n",
       "      <th>80</th>\n",
       "      <td>81</td>\n",
       "      <td>139.840817</td>\n",
       "      <td>34.948615</td>\n",
       "    </tr>\n",
       "  </tbody>\n",
       "</table>\n",
       "<p>81 rows × 3 columns</p>\n",
       "</div>"
      ],
      "text/plain": [
       "    Unnamed: 0          SP         WT\n",
       "0            1  104.185353  28.762059\n",
       "1            2  105.461264  30.466833\n",
       "2            3  105.461264  30.193597\n",
       "3            4  113.461264  30.632114\n",
       "4            5  104.461264  29.889149\n",
       "..         ...         ...        ...\n",
       "76          77  169.598513  16.132947\n",
       "77          78  150.576579  37.923113\n",
       "78          79  151.598513  15.769625\n",
       "79          80  167.944460  39.423099\n",
       "80          81  139.840817  34.948615\n",
       "\n",
       "[81 rows x 3 columns]"
      ]
     },
     "execution_count": 18,
     "metadata": {},
     "output_type": "execute_result"
    }
   ],
   "source": [
    "Q9_b"
   ]
  },
  {
   "cell_type": "code",
   "execution_count": 19,
   "id": "6da9b3f8",
   "metadata": {},
   "outputs": [
    {
     "data": {
      "text/plain": [
       "Unnamed: 0    0.000000\n",
       "SP            1.611450\n",
       "WT           -0.614753\n",
       "dtype: float64"
      ]
     },
     "execution_count": 19,
     "metadata": {},
     "output_type": "execute_result"
    }
   ],
   "source": [
    "Q9_b.skew()"
   ]
  },
  {
   "cell_type": "code",
   "execution_count": 20,
   "id": "c885c750",
   "metadata": {},
   "outputs": [
    {
     "data": {
      "text/plain": [
       "Unnamed: 0   -1.200000\n",
       "SP            2.977329\n",
       "WT            0.950291\n",
       "dtype: float64"
      ]
     },
     "execution_count": 20,
     "metadata": {},
     "output_type": "execute_result"
    }
   ],
   "source": [
    "Q9_b.kurtosis()"
   ]
  },
  {
   "cell_type": "markdown",
   "id": "7ec6aa49",
   "metadata": {},
   "source": [
    "Q11) Suppose we want to estimate the average weight of an adult male in    Mexico. We draw a random sample of 2,000 men from a population of 3,000,000 men and weigh them. We find that the average person in our sample weighs 200 pounds, and the standard deviation of the sample is 30 pounds. Calculate 94%,98%,96% confidence interval?"
   ]
  },
  {
   "cell_type": "code",
   "execution_count": 45,
   "id": "e55e959c",
   "metadata": {},
   "outputs": [],
   "source": [
    "import scipy.stats as stats\n",
    "import math"
   ]
  },
  {
   "cell_type": "code",
   "execution_count": 58,
   "id": "b2ad41fd",
   "metadata": {},
   "outputs": [],
   "source": [
    "X_bar=200\n",
    "sigma=30\n",
    "n=2000\n",
    "confidence_interval=0.95\n",
    "alpha= 1- confidence_interval"
   ]
  },
  {
   "cell_type": "code",
   "execution_count": 47,
   "id": "8690c34a",
   "metadata": {},
   "outputs": [],
   "source": [
    "z_critical=stats.norm.ppf(q=0.975) "
   ]
  },
  {
   "cell_type": "code",
   "execution_count": 48,
   "id": "605a6bf0",
   "metadata": {},
   "outputs": [
    {
     "data": {
      "text/plain": [
       "1.959963984540054"
      ]
     },
     "execution_count": 48,
     "metadata": {},
     "output_type": "execute_result"
    }
   ],
   "source": [
    "z_critical"
   ]
  },
  {
   "cell_type": "code",
   "execution_count": 49,
   "id": "ec1d0e92",
   "metadata": {},
   "outputs": [],
   "source": [
    "#std error calculation \n",
    "std_error=sigma / math.sqrt(n)"
   ]
  },
  {
   "cell_type": "code",
   "execution_count": 51,
   "id": "31f345c8",
   "metadata": {},
   "outputs": [
    {
     "data": {
      "text/plain": [
       "0.6708203932499369"
      ]
     },
     "execution_count": 51,
     "metadata": {},
     "output_type": "execute_result"
    }
   ],
   "source": [
    "std_error"
   ]
  },
  {
   "cell_type": "code",
   "execution_count": 56,
   "id": "f7cad7e5",
   "metadata": {},
   "outputs": [],
   "source": [
    "CI_lower= X_bar - z_critical*std_error\n",
    "CI_upper= X_bar + z_critical*std_error"
   ]
  },
  {
   "cell_type": "code",
   "execution_count": 57,
   "id": "b6c88def",
   "metadata": {},
   "outputs": [
    {
     "data": {
      "text/plain": [
       "(198.68521618913513, 201.31478381086487)"
      ]
     },
     "execution_count": 57,
     "metadata": {},
     "output_type": "execute_result"
    }
   ],
   "source": [
    "CI_lower,CI_upper"
   ]
  },
  {
   "cell_type": "code",
   "execution_count": 60,
   "id": "0260d6ae",
   "metadata": {},
   "outputs": [
    {
     "data": {
      "text/plain": [
       "(-1.959963984540054, 1.959963984540054)"
      ]
     },
     "execution_count": 60,
     "metadata": {},
     "output_type": "execute_result"
    }
   ],
   "source": [
    "# In short process; std error calculation\n",
    "z_interval=stats.norm.interval(alpha=confidence_interval)\n",
    "z_interval"
   ]
  },
  {
   "cell_type": "markdown",
   "id": "1bd4a45b",
   "metadata": {},
   "source": [
    "Q12) Below are the scores obtained by a student in tests \n",
    "34,36,36,38,38,39,39,40,40,41,41,41,41,42,42,45,49,56\n",
    "1)\tFind mean, median, variance, standard deviation.\n",
    "2)\tWhat can we say about the student marks? \n"
   ]
  },
  {
   "cell_type": "code",
   "execution_count": 80,
   "id": "07de316e",
   "metadata": {},
   "outputs": [],
   "source": [
    "import pandas as pd\n",
    "import statistics as stats\n",
    "import matplotlib.pyplot as plt"
   ]
  },
  {
   "cell_type": "code",
   "execution_count": 83,
   "id": "c64f7b15",
   "metadata": {},
   "outputs": [
    {
     "name": "stdout",
     "output_type": "stream",
     "text": [
      "The mean of scores obtained by a student :  41\n",
      "The median of scores obtained by a student : 40.5\n",
      "The Variance of scores obtained by a student: 25.529\n",
      "The Standard Deviation of scores obtained by a student : 5.053\n"
     ]
    }
   ],
   "source": [
    "df=(34,36,36,38,38,39,39,40,40,41,41,41,41,42,42,45,49,56)\n",
    "\n",
    " \n",
    "print (\"The mean of scores obtained by a student : \", stats.mean(df))\n",
    "print(\"The median of scores obtained by a student :\", stats.median(df))\n",
    "print(\"The Variance of scores obtained by a student:\", round(stats.variance(df),3))\n",
    "print(\"The Standard Deviation of scores obtained by a student :\", round(stats.stdev(df),3))"
   ]
  },
  {
   "cell_type": "code",
   "execution_count": 82,
   "id": "6d034f56",
   "metadata": {},
   "outputs": [
    {
     "data": {
      "text/plain": [
       "{'whiskers': [<matplotlib.lines.Line2D at 0x1f90263ffa0>,\n",
       "  <matplotlib.lines.Line2D at 0x1f90264f370>],\n",
       " 'caps': [<matplotlib.lines.Line2D at 0x1f90264f700>,\n",
       "  <matplotlib.lines.Line2D at 0x1f90264fa90>],\n",
       " 'boxes': [<matplotlib.lines.Line2D at 0x1f90263fc10>],\n",
       " 'medians': [<matplotlib.lines.Line2D at 0x1f90264fe20>],\n",
       " 'fliers': [<matplotlib.lines.Line2D at 0x1f90265b1f0>],\n",
       " 'means': []}"
      ]
     },
     "execution_count": 82,
     "metadata": {},
     "output_type": "execute_result"
    },
    {
     "data": {
      "image/png": "[encoded data removed]",
      "text/plain": [
       "<Figure size 432x288 with 1 Axes>"
      ]
     },
     "metadata": {
      "needs_background": "light"
     },
     "output_type": "display_data"
    }
   ],
   "source": [
    "plt.boxplot(df)"
   ]
  },
  {
   "cell_type": "markdown",
   "id": "74f3656f",
   "metadata": {},
   "source": [
    "Calculate probability from the given dataset for the below cases\n",
    "\n",
    "Data _set: Cars.csv\n",
    "Calculate the probability of MPG of Cars for the below cases.\n",
    "       MPG <- Cars$MPG\n",
    "a.\tP(MPG>38)\n",
    "b.\tP(MPG<40)\n",
    "c.    P (20<MPG<50)\n"
   ]
  },
  {
   "cell_type": "code",
   "execution_count": 58,
   "id": "724a156b",
   "metadata": {},
   "outputs": [],
   "source": [
    "import pandas as pd\n",
    "from scipy import stats\n",
    "from scipy.stats import norm"
   ]
  },
  {
   "cell_type": "code",
   "execution_count": null,
   "id": "5fec1fdf",
   "metadata": {},
   "outputs": [],
   "source": []
  },
  {
   "cell_type": "code",
   "execution_count": 59,
   "id": "af469c4e",
   "metadata": {},
   "outputs": [],
   "source": [
    "df=pd.read_csv('C:\\\\Users\\\\user\\\\EXCELR\\\\Assignments\\\\Basic Statitics Level-1\\\\Cars.csv')"
   ]
  },
  {
   "cell_type": "code",
   "execution_count": 60,
   "id": "bd0a078c",
   "metadata": {},
   "outputs": [
    {
     "data": {
      "text/html": [
       "<div>\n",
       "<style scoped>\n",
       "    .dataframe tbody tr th:only-of-type {\n",
       "        vertical-align: middle;\n",
       "    }\n",
       "\n",
       "    .dataframe tbody tr th {\n",
       "        vertical-align: top;\n",
       "    }\n",
       "\n",
       "    .dataframe thead th {\n",
       "        text-align: right;\n",
       "    }\n",
       "</style>\n",
       "<table border=\"1\" class=\"dataframe\">\n",
       "  <thead>\n",
       "    <tr style=\"text-align: right;\">\n",
       "      <th></th>\n",
       "      <th>HP</th>\n",
       "      <th>MPG</th>\n",
       "      <th>VOL</th>\n",
       "      <th>SP</th>\n",
       "      <th>WT</th>\n",
       "    </tr>\n",
       "  </thead>\n",
       "  <tbody>\n",
       "    <tr>\n",
       "      <th>0</th>\n",
       "      <td>49</td>\n",
       "      <td>53.700681</td>\n",
       "      <td>89</td>\n",
       "      <td>104.185353</td>\n",
       "      <td>28.762059</td>\n",
       "    </tr>\n",
       "    <tr>\n",
       "      <th>1</th>\n",
       "      <td>55</td>\n",
       "      <td>50.013401</td>\n",
       "      <td>92</td>\n",
       "      <td>105.461264</td>\n",
       "      <td>30.466833</td>\n",
       "    </tr>\n",
       "    <tr>\n",
       "      <th>2</th>\n",
       "      <td>55</td>\n",
       "      <td>50.013401</td>\n",
       "      <td>92</td>\n",
       "      <td>105.461264</td>\n",
       "      <td>30.193597</td>\n",
       "    </tr>\n",
       "    <tr>\n",
       "      <th>3</th>\n",
       "      <td>70</td>\n",
       "      <td>45.696322</td>\n",
       "      <td>92</td>\n",
       "      <td>113.461264</td>\n",
       "      <td>30.632114</td>\n",
       "    </tr>\n",
       "    <tr>\n",
       "      <th>4</th>\n",
       "      <td>53</td>\n",
       "      <td>50.504232</td>\n",
       "      <td>92</td>\n",
       "      <td>104.461264</td>\n",
       "      <td>29.889149</td>\n",
       "    </tr>\n",
       "    <tr>\n",
       "      <th>...</th>\n",
       "      <td>...</td>\n",
       "      <td>...</td>\n",
       "      <td>...</td>\n",
       "      <td>...</td>\n",
       "      <td>...</td>\n",
       "    </tr>\n",
       "    <tr>\n",
       "      <th>76</th>\n",
       "      <td>322</td>\n",
       "      <td>36.900000</td>\n",
       "      <td>50</td>\n",
       "      <td>169.598513</td>\n",
       "      <td>16.132947</td>\n",
       "    </tr>\n",
       "    <tr>\n",
       "      <th>77</th>\n",
       "      <td>238</td>\n",
       "      <td>19.197888</td>\n",
       "      <td>115</td>\n",
       "      <td>150.576579</td>\n",
       "      <td>37.923113</td>\n",
       "    </tr>\n",
       "    <tr>\n",
       "      <th>78</th>\n",
       "      <td>263</td>\n",
       "      <td>34.000000</td>\n",
       "      <td>50</td>\n",
       "      <td>151.598513</td>\n",
       "      <td>15.769625</td>\n",
       "    </tr>\n",
       "    <tr>\n",
       "      <th>79</th>\n",
       "      <td>295</td>\n",
       "      <td>19.833733</td>\n",
       "      <td>119</td>\n",
       "      <td>167.944460</td>\n",
       "      <td>39.423099</td>\n",
       "    </tr>\n",
       "    <tr>\n",
       "      <th>80</th>\n",
       "      <td>236</td>\n",
       "      <td>12.101263</td>\n",
       "      <td>107</td>\n",
       "      <td>139.840817</td>\n",
       "      <td>34.948615</td>\n",
       "    </tr>\n",
       "  </tbody>\n",
       "</table>\n",
       "<p>81 rows × 5 columns</p>\n",
       "</div>"
      ],
      "text/plain": [
       "     HP        MPG  VOL          SP         WT\n",
       "0    49  53.700681   89  104.185353  28.762059\n",
       "1    55  50.013401   92  105.461264  30.466833\n",
       "2    55  50.013401   92  105.461264  30.193597\n",
       "3    70  45.696322   92  113.461264  30.632114\n",
       "4    53  50.504232   92  104.461264  29.889149\n",
       "..  ...        ...  ...         ...        ...\n",
       "76  322  36.900000   50  169.598513  16.132947\n",
       "77  238  19.197888  115  150.576579  37.923113\n",
       "78  263  34.000000   50  151.598513  15.769625\n",
       "79  295  19.833733  119  167.944460  39.423099\n",
       "80  236  12.101263  107  139.840817  34.948615\n",
       "\n",
       "[81 rows x 5 columns]"
      ]
     },
     "execution_count": 60,
     "metadata": {},
     "output_type": "execute_result"
    }
   ],
   "source": [
    "df"
   ]
  },
  {
   "cell_type": "markdown",
   "id": "eb89208a",
   "metadata": {},
   "source": [
    "probability of ( MPG>38) : "
   ]
  },
  {
   "cell_type": "code",
   "execution_count": 74,
   "id": "2d35dae3",
   "metadata": {},
   "outputs": [
    {
     "data": {
      "text/plain": [
       "0.3475939251582705"
      ]
     },
     "execution_count": 74,
     "metadata": {},
     "output_type": "execute_result"
    }
   ],
   "source": [
    "1-stats.norm.cdf(38,df.MPG.mean(),df.MPG.std())"
   ]
  },
  {
   "cell_type": "markdown",
   "id": "d8b1c3ee",
   "metadata": {},
   "source": [
    "probability of ( MPG<40) : "
   ]
  },
  {
   "cell_type": "code",
   "execution_count": 76,
   "id": "f0ea4c6f",
   "metadata": {},
   "outputs": [
    {
     "data": {
      "text/plain": [
       "0.7293498762151616"
      ]
     },
     "execution_count": 76,
     "metadata": {},
     "output_type": "execute_result"
    }
   ],
   "source": [
    "stats.norm.cdf(40,df.MPG.mean(),df.MPG.std())"
   ]
  },
  {
   "cell_type": "markdown",
   "id": "269cca96",
   "metadata": {},
   "source": [
    "probability of ( 20<MPG<50) : "
   ]
  },
  {
   "cell_type": "code",
   "execution_count": 87,
   "id": "06e8c51f",
   "metadata": {},
   "outputs": [
    {
     "data": {
      "text/plain": [
       "1.2430968797327613e-05"
      ]
     },
     "execution_count": 87,
     "metadata": {},
     "output_type": "execute_result"
    }
   ],
   "source": [
    "stats.norm.cdf(0.50,df.MPG.mean(),df.MPG.std())-stats.norm.cdf(0.20,df.MPG.mean(),df.MPG.std())"
   ]
  },
  {
   "cell_type": "markdown",
   "id": "185df953",
   "metadata": {},
   "source": [
    "Q 21) Check whether the data follows normal distribution\n",
    "a)\tCheck whether the MPG of Cars follows Normal Distribution \n",
    "        Dataset: Cars.csv\n",
    "\n",
    "\n",
    "b)\tCheck Whether the Adipose Tissue (AT) and Waist Circumference(Waist)  from wc-at data set  follows Normal Distribution \n",
    "       Dataset: wc-at.csv"
   ]
  },
  {
   "cell_type": "code",
   "execution_count": 2,
   "id": "e2f530fa",
   "metadata": {},
   "outputs": [],
   "source": [
    "import seaborn as sns\n",
    "import pandas as pd\n",
    "import statsmodels.api as sma\n",
    "\n",
    "df =pd.read_csv('C:\\\\Users\\\\user\\\\EXCELR\\\\Assignments\\\\Basic Statitics Level-1\\\\Cars.csv')"
   ]
  },
  {
   "cell_type": "code",
   "execution_count": 4,
   "id": "a7069ccd",
   "metadata": {},
   "outputs": [
    {
     "data": {
      "text/html": [
       "<div>\n",
       "<style scoped>\n",
       "    .dataframe tbody tr th:only-of-type {\n",
       "        vertical-align: middle;\n",
       "    }\n",
       "\n",
       "    .dataframe tbody tr th {\n",
       "        vertical-align: top;\n",
       "    }\n",
       "\n",
       "    .dataframe thead th {\n",
       "        text-align: right;\n",
       "    }\n",
       "</style>\n",
       "<table border=\"1\" class=\"dataframe\">\n",
       "  <thead>\n",
       "    <tr style=\"text-align: right;\">\n",
       "      <th></th>\n",
       "      <th>HP</th>\n",
       "      <th>MPG</th>\n",
       "      <th>VOL</th>\n",
       "      <th>SP</th>\n",
       "      <th>WT</th>\n",
       "    </tr>\n",
       "  </thead>\n",
       "  <tbody>\n",
       "    <tr>\n",
       "      <th>0</th>\n",
       "      <td>49</td>\n",
       "      <td>53.700681</td>\n",
       "      <td>89</td>\n",
       "      <td>104.185353</td>\n",
       "      <td>28.762059</td>\n",
       "    </tr>\n",
       "    <tr>\n",
       "      <th>1</th>\n",
       "      <td>55</td>\n",
       "      <td>50.013401</td>\n",
       "      <td>92</td>\n",
       "      <td>105.461264</td>\n",
       "      <td>30.466833</td>\n",
       "    </tr>\n",
       "    <tr>\n",
       "      <th>2</th>\n",
       "      <td>55</td>\n",
       "      <td>50.013401</td>\n",
       "      <td>92</td>\n",
       "      <td>105.461264</td>\n",
       "      <td>30.193597</td>\n",
       "    </tr>\n",
       "    <tr>\n",
       "      <th>3</th>\n",
       "      <td>70</td>\n",
       "      <td>45.696322</td>\n",
       "      <td>92</td>\n",
       "      <td>113.461264</td>\n",
       "      <td>30.632114</td>\n",
       "    </tr>\n",
       "    <tr>\n",
       "      <th>4</th>\n",
       "      <td>53</td>\n",
       "      <td>50.504232</td>\n",
       "      <td>92</td>\n",
       "      <td>104.461264</td>\n",
       "      <td>29.889149</td>\n",
       "    </tr>\n",
       "    <tr>\n",
       "      <th>...</th>\n",
       "      <td>...</td>\n",
       "      <td>...</td>\n",
       "      <td>...</td>\n",
       "      <td>...</td>\n",
       "      <td>...</td>\n",
       "    </tr>\n",
       "    <tr>\n",
       "      <th>76</th>\n",
       "      <td>322</td>\n",
       "      <td>36.900000</td>\n",
       "      <td>50</td>\n",
       "      <td>169.598513</td>\n",
       "      <td>16.132947</td>\n",
       "    </tr>\n",
       "    <tr>\n",
       "      <th>77</th>\n",
       "      <td>238</td>\n",
       "      <td>19.197888</td>\n",
       "      <td>115</td>\n",
       "      <td>150.576579</td>\n",
       "      <td>37.923113</td>\n",
       "    </tr>\n",
       "    <tr>\n",
       "      <th>78</th>\n",
       "      <td>263</td>\n",
       "      <td>34.000000</td>\n",
       "      <td>50</td>\n",
       "      <td>151.598513</td>\n",
       "      <td>15.769625</td>\n",
       "    </tr>\n",
       "    <tr>\n",
       "      <th>79</th>\n",
       "      <td>295</td>\n",
       "      <td>19.833733</td>\n",
       "      <td>119</td>\n",
       "      <td>167.944460</td>\n",
       "      <td>39.423099</td>\n",
       "    </tr>\n",
       "    <tr>\n",
       "      <th>80</th>\n",
       "      <td>236</td>\n",
       "      <td>12.101263</td>\n",
       "      <td>107</td>\n",
       "      <td>139.840817</td>\n",
       "      <td>34.948615</td>\n",
       "    </tr>\n",
       "  </tbody>\n",
       "</table>\n",
       "<p>81 rows × 5 columns</p>\n",
       "</div>"
      ],
      "text/plain": [
       "     HP        MPG  VOL          SP         WT\n",
       "0    49  53.700681   89  104.185353  28.762059\n",
       "1    55  50.013401   92  105.461264  30.466833\n",
       "2    55  50.013401   92  105.461264  30.193597\n",
       "3    70  45.696322   92  113.461264  30.632114\n",
       "4    53  50.504232   92  104.461264  29.889149\n",
       "..  ...        ...  ...         ...        ...\n",
       "76  322  36.900000   50  169.598513  16.132947\n",
       "77  238  19.197888  115  150.576579  37.923113\n",
       "78  263  34.000000   50  151.598513  15.769625\n",
       "79  295  19.833733  119  167.944460  39.423099\n",
       "80  236  12.101263  107  139.840817  34.948615\n",
       "\n",
       "[81 rows x 5 columns]"
      ]
     },
     "execution_count": 4,
     "metadata": {},
     "output_type": "execute_result"
    }
   ],
   "source": [
    "df"
   ]
  },
  {
   "cell_type": "code",
   "execution_count": 5,
   "id": "028f0bbf",
   "metadata": {},
   "outputs": [
    {
     "name": "stderr",
     "output_type": "stream",
     "text": [
      "C:\\Users\\user\\EXCELR\\anaconda3\\lib\\site-packages\\statsmodels\\graphics\\gofplots.py:993: UserWarning: marker is redundantly defined by the 'marker' keyword argument and the fmt string \"bo\" (-> marker='o'). The keyword argument will take precedence.\n",
      "  ax.plot(x, y, fmt, **plot_style)\n"
     ]
    },
    {
     "data": {
      "image/png": "[encoded data removed]",
      "text/plain": [
       "<Figure size 432x288 with 1 Axes>"
      ]
     },
     "execution_count": 5,
     "metadata": {},
     "output_type": "execute_result"
    },
    {
     "data": {
      "image/png": "[encoded data removed]",
      "text/plain": [
       "<Figure size 432x288 with 1 Axes>"
      ]
     },
     "metadata": {
      "needs_background": "light"
     },
     "output_type": "display_data"
    }
   ],
   "source": [
    "sma.qqplot(df.MPG)"
   ]
  },
  {
   "cell_type": "code",
   "execution_count": 17,
   "id": "1b963e48",
   "metadata": {},
   "outputs": [
    {
     "data": {
      "text/html": [
       "<div>\n",
       "<style scoped>\n",
       "    .dataframe tbody tr th:only-of-type {\n",
       "        vertical-align: middle;\n",
       "    }\n",
       "\n",
       "    .dataframe tbody tr th {\n",
       "        vertical-align: top;\n",
       "    }\n",
       "\n",
       "    .dataframe thead th {\n",
       "        text-align: right;\n",
       "    }\n",
       "</style>\n",
       "<table border=\"1\" class=\"dataframe\">\n",
       "  <thead>\n",
       "    <tr style=\"text-align: right;\">\n",
       "      <th></th>\n",
       "      <th>Waist</th>\n",
       "      <th>AT</th>\n",
       "    </tr>\n",
       "  </thead>\n",
       "  <tbody>\n",
       "    <tr>\n",
       "      <th>0</th>\n",
       "      <td>74.75</td>\n",
       "      <td>25.72</td>\n",
       "    </tr>\n",
       "    <tr>\n",
       "      <th>1</th>\n",
       "      <td>72.60</td>\n",
       "      <td>25.89</td>\n",
       "    </tr>\n",
       "    <tr>\n",
       "      <th>2</th>\n",
       "      <td>81.80</td>\n",
       "      <td>42.60</td>\n",
       "    </tr>\n",
       "    <tr>\n",
       "      <th>3</th>\n",
       "      <td>83.95</td>\n",
       "      <td>42.80</td>\n",
       "    </tr>\n",
       "    <tr>\n",
       "      <th>4</th>\n",
       "      <td>74.65</td>\n",
       "      <td>29.84</td>\n",
       "    </tr>\n",
       "    <tr>\n",
       "      <th>...</th>\n",
       "      <td>...</td>\n",
       "      <td>...</td>\n",
       "    </tr>\n",
       "    <tr>\n",
       "      <th>104</th>\n",
       "      <td>100.10</td>\n",
       "      <td>124.00</td>\n",
       "    </tr>\n",
       "    <tr>\n",
       "      <th>105</th>\n",
       "      <td>93.30</td>\n",
       "      <td>62.20</td>\n",
       "    </tr>\n",
       "    <tr>\n",
       "      <th>106</th>\n",
       "      <td>101.80</td>\n",
       "      <td>133.00</td>\n",
       "    </tr>\n",
       "    <tr>\n",
       "      <th>107</th>\n",
       "      <td>107.90</td>\n",
       "      <td>208.00</td>\n",
       "    </tr>\n",
       "    <tr>\n",
       "      <th>108</th>\n",
       "      <td>108.50</td>\n",
       "      <td>208.00</td>\n",
       "    </tr>\n",
       "  </tbody>\n",
       "</table>\n",
       "<p>109 rows × 2 columns</p>\n",
       "</div>"
      ],
      "text/plain": [
       "      Waist      AT\n",
       "0     74.75   25.72\n",
       "1     72.60   25.89\n",
       "2     81.80   42.60\n",
       "3     83.95   42.80\n",
       "4     74.65   29.84\n",
       "..      ...     ...\n",
       "104  100.10  124.00\n",
       "105   93.30   62.20\n",
       "106  101.80  133.00\n",
       "107  107.90  208.00\n",
       "108  108.50  208.00\n",
       "\n",
       "[109 rows x 2 columns]"
      ]
     },
     "execution_count": 17,
     "metadata": {},
     "output_type": "execute_result"
    }
   ],
   "source": [
    "\n",
    "import pandas as pd\n",
    "import statsmodels.api as sma\n",
    "A=pd.read_csv('C:\\\\Users\\\\user\\\\EXCELR\\\\Assignments\\\\Basic Statitics Level-1\\\\wc-at.csv')\n",
    "A"
   ]
  },
  {
   "cell_type": "code",
   "execution_count": 18,
   "id": "654c229a",
   "metadata": {},
   "outputs": [
    {
     "name": "stderr",
     "output_type": "stream",
     "text": [
      "C:\\Users\\user\\EXCELR\\anaconda3\\lib\\site-packages\\statsmodels\\graphics\\gofplots.py:993: UserWarning: marker is redundantly defined by the 'marker' keyword argument and the fmt string \"bo\" (-> marker='o'). The keyword argument will take precedence.\n",
      "  ax.plot(x, y, fmt, **plot_style)\n"
     ]
    },
    {
     "data": {
      "image/png": "[encoded data removed]",
      "text/plain": [
       "<Figure size 432x288 with 1 Axes>"
      ]
     },
     "execution_count": 18,
     "metadata": {},
     "output_type": "execute_result"
    },
    {
     "data": {
      "image/png": "[encoded data removed]",
      "text/plain": [
       "<Figure size 432x288 with 1 Axes>"
      ]
     },
     "metadata": {
      "needs_background": "light"
     },
     "output_type": "display_data"
    }
   ],
   "source": [
    "sma.qqplot(A.AT)"
   ]
  },
  {
   "cell_type": "code",
   "execution_count": 21,
   "id": "19fa10dd",
   "metadata": {},
   "outputs": [
    {
     "name": "stderr",
     "output_type": "stream",
     "text": [
      "C:\\Users\\user\\EXCELR\\anaconda3\\lib\\site-packages\\statsmodels\\graphics\\gofplots.py:993: UserWarning: marker is redundantly defined by the 'marker' keyword argument and the fmt string \"bo\" (-> marker='o'). The keyword argument will take precedence.\n",
      "  ax.plot(x, y, fmt, **plot_style)\n"
     ]
    },
    {
     "data": {
      "image/png": "[encoded data removed]",
      "text/plain": [
       "<Figure size 432x288 with 1 Axes>"
      ]
     },
     "execution_count": 21,
     "metadata": {},
     "output_type": "execute_result"
    },
    {
     "data": {
      "image/png": "[encoded data removed]",
      "text/plain": [
       "<Figure size 432x288 with 1 Axes>"
      ]
     },
     "metadata": {
      "needs_background": "light"
     },
     "output_type": "display_data"
    }
   ],
   "source": [
    "sma.qqplot(A.Waist)"
   ]
  },
  {
   "cell_type": "markdown",
   "id": "41d0ad90",
   "metadata": {},
   "source": []
  },
  {
   "cell_type": "markdown",
   "id": "529c4789",
   "metadata": {},
   "source": [
    "Q 22) Calculate the Z scores of 90% confidence interval,94% confidence interval, 60% confidence interval"
   ]
  },
  {
   "cell_type": "code",
   "execution_count": 2,
   "id": "c2de0772",
   "metadata": {},
   "outputs": [
    {
     "name": "stdout",
     "output_type": "stream",
     "text": [
      "z Score of 90%: 1.2815515655446004\n",
      "z Score of 94%: 1.5547735945968535\n",
      "z Score of 60%: 0.2533471031357997\n"
     ]
    }
   ],
   "source": [
    "from scipy import stats\n",
    "print('z Score of 90%:',stats.norm.ppf(0.90))\n",
    "print('z Score of 94%:',stats.norm.ppf(0.94))\n",
    "print('z Score of 60%:',stats.norm.ppf(0.60))\n",
    "  "
   ]
  },
  {
   "cell_type": "markdown",
   "id": "d339de06",
   "metadata": {},
   "source": [
    "Q 23) Calculate the t scores of 95% confidence interval, 96% confidence interval, 99% confidence interval for sample size of 25"
   ]
  },
  {
   "cell_type": "code",
   "execution_count": 8,
   "id": "6a406e57",
   "metadata": {},
   "outputs": [
    {
     "name": "stdout",
     "output_type": "stream",
     "text": [
      "z score of 95%: -1.7108820799094282\n",
      "z score of 96%: -1.8280511719596344\n",
      "z score of 99%: -2.4921594731575762\n"
     ]
    }
   ],
   "source": [
    "print('z score of 95%:', stats.t.ppf(0.05,(25-1)))\n",
    "print('z score of 96%:', stats.t.ppf(0.04,(25-1)))\n",
    "print('z score of 99%:', stats.t.ppf(0.01,(25-1)))"
   ]
  },
  {
   "cell_type": "markdown",
   "id": "d6742b35",
   "metadata": {},
   "source": [
    "Q 24)   A Government company claims that an average light bulb lasts 270 days. A researcher randomly selects 18 bulbs for testing. The sampled bulbs last an average of 260 days, with a standard deviation of 90 days. If the CEO's claim were true, what is the probability that 18 randomly selected bulbs would have an average life of no more than 260 days"
   ]
  },
  {
   "cell_type": "code",
   "execution_count": 1,
   "id": "d067661c",
   "metadata": {},
   "outputs": [],
   "source": [
    "from scipy import stats"
   ]
  },
  {
   "cell_type": "code",
   "execution_count": 5,
   "id": "d5235d38",
   "metadata": {},
   "outputs": [
    {
     "data": {
      "text/plain": [
       "-0.4714045207910317"
      ]
     },
     "execution_count": 5,
     "metadata": {},
     "output_type": "execute_result"
    }
   ],
   "source": [
    "# pop mean= 270, sample mean=260, std deviation= 90, n=18.\n",
    "# find t score\n",
    "\n",
    "t=(260-270)/(90/18**0.5)\n",
    "t"
   ]
  },
  {
   "cell_type": "code",
   "execution_count": null,
   "id": "c04ea84f",
   "metadata": {},
   "outputs": [],
   "source": [
    "# Null Hypothesis is: Ho = Avg life of Bulb >= 260 days\n",
    "# Alternate Hypothesis is: H1 = Avg life of Bulb < 260 days"
   ]
  },
  {
   "cell_type": "code",
   "execution_count": 12,
   "id": "c89d0e7b",
   "metadata": {},
   "outputs": [
    {
     "data": {
      "text/plain": [
       "0.32167411684460556"
      ]
     },
     "execution_count": 12,
     "metadata": {},
     "output_type": "execute_result"
    }
   ],
   "source": [
    "# p_value=1-stats.t.cdf(abs(t_scores),df=n-1).\n",
    "degf=17\n",
    "p_value=1-stats.t.cdf(abs(-0.4714),degf)\n",
    "p_value\n"
   ]
  },
  {
   "cell_type": "code",
   "execution_count": null,
   "id": "59eea4c0",
   "metadata": {},
   "outputs": [],
   "source": []
  }
 ],
 "metadata": {
  "kernelspec": {
   "display_name": "Python 3 (ipykernel)",
   "language": "python",
   "name": "python3"
  },
  "language_info": {
   "codemirror_mode": {
    "name": "ipython",
    "version": 3
   },
   "file_extension": ".py",
   "mimetype": "text/x-python",
   "name": "python",
   "nbconvert_exporter": "python",
   "pygments_lexer": "ipython3",
   "version": "3.9.7"
  }
 },
 "nbformat": 4,
 "nbformat_minor": 5
}
